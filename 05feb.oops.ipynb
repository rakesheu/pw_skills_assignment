{
 "cells": [
  {
   "cell_type": "markdown",
   "id": "f8a94ac4-fc33-41d8-9d25-f1137fd6dbb2",
   "metadata": {},
   "source": [
    "###Q1. Explain Class and Object with respect to Object-Oriented Programming. Give a suitable example."
   ]
  },
  {
   "cell_type": "markdown",
   "id": "760193da-1d60-47df-9e15-8cdd2068bd51",
   "metadata": {},
   "source": [
    "In object-oriented programming (OOP), a class is a blueprint or a template that defines the characteristics and behavior of objects. It represents a concept or a category of objects that share similar attributes and operations. A class defines the structure and initial state (via data members) and the behavior (via member functions or methods) that the objects of that class will exhibit.\n",
    "\n",
    "An object, on the other hand, is an instance of a class. It is a tangible entity that can be created using the defined class. Each object possesses its own set of data members and can perform operations defined in the class. Objects interact with each other by invoking methods or accessing the attributes of other objects."
   ]
  },
  {
   "cell_type": "code",
   "execution_count": 1,
   "id": "c7620533-d216-49ec-94f0-7f1d82813601",
   "metadata": {},
   "outputs": [],
   "source": [
    "class elldus:\n",
    "    def __init__(self, phone_number,Location, Rooms):\n",
    "        self.phone_number= phone_number\n",
    "        self.Location = Location\n",
    "        self.Rooms = Rooms\n",
    "        \n",
    "    def return_hotel_details(self):\n",
    "        \n",
    "        return self.phone_number, self.Location, self.Rooms"
   ]
  },
  {
   "cell_type": "code",
   "execution_count": 2,
   "id": "b5b4cbe9-358c-4f2f-80ff-ce92c7ec29a7",
   "metadata": {},
   "outputs": [],
   "source": [
    "#now we make an object\n",
    "\n",
    "hotel= elldus(17627752799, \"Frankfurt\", 777)"
   ]
  },
  {
   "cell_type": "code",
   "execution_count": 3,
   "id": "e4306039-5bf8-450d-9caf-d83081a9608e",
   "metadata": {},
   "outputs": [
    {
     "data": {
      "text/plain": [
       "(17627752799, 'Frankfurt', 777)"
      ]
     },
     "execution_count": 3,
     "metadata": {},
     "output_type": "execute_result"
    }
   ],
   "source": [
    "hotel.return_hotel_details()"
   ]
  },
  {
   "cell_type": "code",
   "execution_count": 4,
   "id": "a74b9723-56ee-4304-9ace-db0d1f6102e2",
   "metadata": {},
   "outputs": [
    {
     "data": {
      "text/plain": [
       "17627752799"
      ]
     },
     "execution_count": 4,
     "metadata": {},
     "output_type": "execute_result"
    }
   ],
   "source": [
    "hotel.phone_number"
   ]
  },
  {
   "cell_type": "code",
   "execution_count": 5,
   "id": "d5914308-32d7-4a59-86c0-b9e7a353a0f4",
   "metadata": {},
   "outputs": [
    {
     "data": {
      "text/plain": [
       "'Frankfurt'"
      ]
     },
     "execution_count": 5,
     "metadata": {},
     "output_type": "execute_result"
    }
   ],
   "source": [
    "hotel.Location"
   ]
  },
  {
   "cell_type": "markdown",
   "id": "c5eee29e-b3cf-497c-8e49-e3ead8b13ca2",
   "metadata": {},
   "source": [
    "###Q2. Name the four pillars of OOPs."
   ]
  },
  {
   "cell_type": "markdown",
   "id": "39761186-0dd6-4bec-99f7-dd1167079bd3",
   "metadata": {},
   "source": [
    "The four pillars of object-oriented programming (OOP) are:\n",
    "\n",
    "Encapsulation: Encapsulation is the bundling of data and related methods (functions) together into a single unit called a class. It enables the data to be accessed and modified only through the defined methods, providing control over data integrity and ensuring the proper behavior of objects.\n",
    "\n",
    "Inheritance: Inheritance allows the creation of new classes (derived classes) based on existing classes (base or parent classes). The derived classes inherit the properties and behaviors of the base class, which they can reuse, extend, or modify. Inheritance promotes code reuse, modularity, and hierarchical organization of classes.\n",
    "\n",
    "Polymorphism: Polymorphism refers to the ability of objects of different classes to respond uniquely to the same message or method call. It allows objects of different types to be treated interchangeably, providing flexibility and extensibility in designing and implementing code. Polymorphism can be achieved through method overriding and method overloading.\n",
    "\n",
    "Abstraction: Abstraction focuses on representing the essential features and behavior of an object, while hiding unnecessary details. It provides a simplified and conceptual view of objects, allowing developers to handle complexity by breaking down systems into manageable and understandable parts. Abstraction is realized through abstract classes and interfaces, which define a blueprint for derived classes to follow.\n",
    "\n",
    "These four pillars are fundamental concepts in OOP, and they help in creating modular, maintainable, and reusable code by promoting encapsulation, code organization, code reuse, flexibility, and scalability.\n"
   ]
  },
  {
   "cell_type": "markdown",
   "id": "c7bebda7-d36e-40ea-b253-3b0a069ed42a",
   "metadata": {},
   "source": [
    "###Q3. Explain why the __init__() function is used. Give a suitable example."
   ]
  },
  {
   "cell_type": "markdown",
   "id": "0af2d21b-5149-4528-bbf7-09d4de93266e",
   "metadata": {},
   "source": [
    "The __init__() function is a special method in Python classes that is used for initializing objects. It is automatically called when an object is created from a class. The primary purpose of the __init__() method is to set up the initial state of the object by initializing its attributes."
   ]
  },
  {
   "cell_type": "code",
   "execution_count": 24,
   "id": "309fb316-eb56-4343-9bac-01103b08f13b",
   "metadata": {},
   "outputs": [],
   "source": [
    "class student:\n",
    "    def __init__(self, Name, age, Phone_number):\n",
    "        self.Name= Name\n",
    "        self.age = age\n",
    "        self.Phone_number= Phone_number\n",
    "    def return_student_details(self):\n",
    "        \n",
    "        return self.Name, self.age, self.Phone_number\n",
    "    "
   ]
  },
  {
   "cell_type": "code",
   "execution_count": 25,
   "id": "2ccb18b6-5ae2-4783-bcfe-e6ded0a2c2e9",
   "metadata": {},
   "outputs": [],
   "source": [
    "# Creating a student object\n",
    "student1 = student(\"John\", 20, \"1234567890\")"
   ]
  },
  {
   "cell_type": "code",
   "execution_count": 26,
   "id": "b7fa6d10-38c2-4cef-ad0e-3441534db2cb",
   "metadata": {},
   "outputs": [
    {
     "data": {
      "text/plain": [
       "('John', 20, '1234567890')"
      ]
     },
     "execution_count": 26,
     "metadata": {},
     "output_type": "execute_result"
    }
   ],
   "source": [
    "student1.return_student_details()"
   ]
  },
  {
   "cell_type": "code",
   "execution_count": 29,
   "id": "4b622b81-54e7-482f-9a06-94df4b58ed1e",
   "metadata": {},
   "outputs": [
    {
     "data": {
      "text/plain": [
       "'John'"
      ]
     },
     "execution_count": 29,
     "metadata": {},
     "output_type": "execute_result"
    }
   ],
   "source": [
    "student1.Name"
   ]
  },
  {
   "cell_type": "markdown",
   "id": "aa04b010-6698-47e8-b095-f6534ff2c8e9",
   "metadata": {},
   "source": [
    "###Q4. Why self is used in OOPs?"
   ]
  },
  {
   "cell_type": "markdown",
   "id": "3afba500-fad8-4679-bd50-4ba12af36187",
   "metadata": {},
   "source": [
    "In object-oriented programming (OOP), the self parameter is used to refer to the instance of a class within its own methods. It is a convention in Python to use the name self as the first parameter in the method definition.\n",
    "\n",
    "Here are the main reasons why self is used in OOP:\n",
    "\n",
    "Instance Reference: self allows a method to refer to the specific instance of the class that is calling the method. When an instance method is called on an object, the object itself is automatically passed as the self parameter, providing a reference to the instance within the method.\n",
    "\n",
    "Accessing Attributes and Methods: With self, you can access the attributes (data members) and methods of the class within its own methods. It allows you to manipulate and interact with the instance variables and methods of the class.\n",
    "\n",
    "Differentiating Instance and Local Variables: By using self, you can differentiate between instance variables (attributes) and local variables within the scope of a method. This ensures that the correct variables are accessed and modified.\n",
    "\n",
    "Enabling Method Chaining: self enables method chaining, which is the ability to call multiple methods on an object in a single line of code. By returning self at the end of each method, you can chain subsequent method calls on the same object.\n",
    "\n",
    "Here's an example to demonstrate the usage of self in a class method:\n",
    "\n",
    "python\n",
    "Copy code\n",
    "class Person:\n",
    "    def __init__(self, name):\n",
    "        self.name = name\n",
    "\n",
    "    def introduce(self):\n",
    "        print(f\"Hello, my name is {self.name}.\")\n",
    "\n",
    "    def say_hello(self, other_person):\n",
    "        print(f\"Hello {other_person}, my name is {self.name}. Nice to meet you!\")\n",
    "\n",
    "# Creating two Person objects\n",
    "person1 = Person(\"Alice\")\n",
    "person2 = Person(\"Bob\")\n",
    "\n",
    "# Calling methods on the objects\n",
    "person1.introduce()              # Output: Hello, my name is Alice.\n",
    "person2.introduce()              # Output: Hello, my name is Bob.\n",
    "person1.say_hello(\"Bob\")         # Output: Hello Bob, my name is Alice. Nice to meet you!\n",
    "person2.say_hello(\"Alice\")       # Output: Hello Alice, my name is Bob. Nice to meet you!\n",
    "In this example, the self parameter is used within the introduce() and say_hello() methods. It allows the methods to refer to the instance of the class (the object) that is calling the methods. By using self, the methods can access the `name'"
   ]
  },
  {
   "cell_type": "markdown",
   "id": "b7e06d81-c57b-42f2-818b-92bbb3bf5bed",
   "metadata": {},
   "source": [
    "###Q5. What is inheritance? Give an example for each type of inheritance."
   ]
  },
  {
   "cell_type": "markdown",
   "id": "5111da2d-611e-44bc-b4b4-ec687d6770e3",
   "metadata": {},
   "source": [
    "Inheritance is a fundamental concept in object-oriented programming (OOP) that allows the creation of new classes (derived classes) based on existing classes (base or parent classes). The derived classes inherit the attributes and methods of the base class, and they can also extend or modify them as per their specific requirements. Inheritance promotes code reuse, modularity, and hierarchical organization of classes.\n",
    "\n",
    "There are different types of inheritance in OOP, including:\n",
    "\n",
    "Single Inheritance: Single inheritance involves a derived class inheriting from a single base class. It forms a one-to-one relationship between classes.\n"
   ]
  },
  {
   "cell_type": "code",
   "execution_count": 30,
   "id": "0da176ac-def3-4d49-972d-c61d3c18b62d",
   "metadata": {},
   "outputs": [
    {
     "name": "stdout",
     "output_type": "stream",
     "text": [
      "Driving the vehicle.\n",
      "Parking the car.\n"
     ]
    }
   ],
   "source": [
    "class Vehicle:\n",
    "    def drive(self):\n",
    "        print(\"Driving the vehicle.\")\n",
    "\n",
    "class Car(Vehicle):\n",
    "    def park(self):\n",
    "        print(\"Parking the car.\")\n",
    "\n",
    "# Creating a Car object and calling methods\n",
    "car = Car()\n",
    "car.drive() \n",
    "car.park()  \n"
   ]
  },
  {
   "cell_type": "markdown",
   "id": "8e2af034-cfb6-41b9-a6f1-c7eaa8577e31",
   "metadata": {},
   "source": [
    "Multiple Inheritance: Multiple inheritance involves a derived class inheriting from multiple base classes. It allows a class to inherit attributes and methods from multiple classes, forming a multiple inheritance hierarchy.\n"
   ]
  },
  {
   "cell_type": "code",
   "execution_count": 31,
   "id": "52edfefb-7d23-490d-8368-f627e5e49f2f",
   "metadata": {},
   "outputs": [
    {
     "name": "stdout",
     "output_type": "stream",
     "text": [
      "Drawing a shape.\n",
      "Applying color to the shape.\n"
     ]
    }
   ],
   "source": [
    "class Shape:\n",
    "    def draw(self):\n",
    "        print(\"Drawing a shape.\")\n",
    "\n",
    "class Color:\n",
    "    def apply_color(self):\n",
    "        print(\"Applying color to the shape.\")\n",
    "\n",
    "class ColoredShape(Shape, Color):\n",
    "    pass\n",
    "\n",
    "# Creating a ColoredShape object and calling methods\n",
    "colored_shape = ColoredShape()\n",
    "colored_shape.draw() \n",
    "colored_shape.apply_color()  \n"
   ]
  },
  {
   "cell_type": "markdown",
   "id": "09ca4337-5afc-4723-9a56-0b214ab5fc01",
   "metadata": {},
   "source": [
    "Multilevel Inheritance: Multilevel inheritance involves a derived class inheriting from another derived class. It forms a chain of inheritance with multiple levels."
   ]
  },
  {
   "cell_type": "code",
   "execution_count": 32,
   "id": "f8cade1d-f0fa-421c-a393-bce3bdc09508",
   "metadata": {},
   "outputs": [
    {
     "name": "stdout",
     "output_type": "stream",
     "text": [
      "Breathing...\n",
      "Feeding milk...\n",
      "Swimming...\n"
     ]
    }
   ],
   "source": [
    "class Animal:\n",
    "    def breathe(self):\n",
    "        print(\"Breathing...\")\n",
    "\n",
    "class Mammal(Animal):\n",
    "    def feed_milk(self):\n",
    "        print(\"Feeding milk...\")\n",
    "\n",
    "class Whale(Mammal):\n",
    "    def swim(self):\n",
    "        print(\"Swimming...\")\n",
    "\n",
    "# Creating a Whale object and calling methods\n",
    "whale = Whale()\n",
    "whale.breathe() \n",
    "whale.feed_milk()  \n",
    "whale.swim()  \n"
   ]
  },
  {
   "cell_type": "code",
   "execution_count": null,
   "id": "0f7410ee-2d57-42b4-a8ee-ec7f94d88baf",
   "metadata": {},
   "outputs": [],
   "source": []
  }
 ],
 "metadata": {
  "kernelspec": {
   "display_name": "Python 3 (ipykernel)",
   "language": "python",
   "name": "python3"
  },
  "language_info": {
   "codemirror_mode": {
    "name": "ipython",
    "version": 3
   },
   "file_extension": ".py",
   "mimetype": "text/x-python",
   "name": "python",
   "nbconvert_exporter": "python",
   "pygments_lexer": "ipython3",
   "version": "3.10.8"
  }
 },
 "nbformat": 4,
 "nbformat_minor": 5
}
